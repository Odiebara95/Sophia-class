{
 "cells": [
  {
   "cell_type": "code",
   "execution_count": 13,
   "metadata": {},
   "outputs": [
    {
     "name": "stdout",
     "output_type": "stream",
     "text": [
      "Please enter any sentence of your choice: how are you sophia\n",
      "\n",
      "This is your splitted list ['how', 'are', 'you', 'sophia']\n",
      "\n",
      "This is your title case list ['How', 'Are', 'You', 'Sophia']\n",
      "\n",
      "This is your upper case list ['HOW', 'ARE', 'YOU', 'SOPHIA']\n"
     ]
    }
   ],
   "source": [
    "text = input(\"Please enter any sentence of your choice: \") # read in your string sentence\n",
    "list_text = text.split(' ') # split the sentence into a list\n",
    "print()\n",
    "print(f'This is your splitted list {list_text}')\n",
    "print()\n",
    "title=[] # declare an empty list called title that will hold the title case\n",
    "upper=[] # declare an empty list called upper that will hold the upper case\n",
    "for items in list_text: # loop through your list\n",
    "    title.append(items.title()) # append each item to the list using the title() case method\n",
    "    upper.append(items.upper()) # append each item to the list using the upper() case method\n",
    "print(f'This is your title case list {title}')\n",
    "print()\n",
    "print(f'This is your upper case list {upper}')"
   ]
  },
  {
   "cell_type": "code",
   "execution_count": 3,
   "metadata": {},
   "outputs": [
    {
     "name": "stdout",
     "output_type": "stream",
     "text": [
      "Please enter any sentence of your choice: how are you\n",
      "\n",
      "This is your final list ['how', 'are', 'you', 'How', 'HOW', 'Are', 'ARE', 'You', 'YOU']\n"
     ]
    }
   ],
   "source": [
    "text = input(\"Please enter any sentence of your choice: \") # read in your string sentence\n",
    "list_text = text.split(' ')# split the sentence into a list\n",
    "final_text=list(list_text)\n",
    "for items in list_text: # loop through your list\n",
    "    final_text.append(items.title())\n",
    "    final_text.append(items.upper())\n",
    "print()\n",
    "print(f'This is your final list {final_text}')"
   ]
  },
  {
   "cell_type": "code",
   "execution_count": 124,
   "metadata": {},
   "outputs": [
    {
     "name": "stdout",
     "output_type": "stream",
     "text": [
      "{'a': 10, 'b': 1, 'c': 2, 'd': 2, 'e': 2, 'f': 2, 'g': 0, 'h': 4, 'i': 6, 'j': 0, 'k': 0, 'l': 0, 'm': 2, 'n': 7, 'o': 9, 'p': 0, 'q': 0, 'r': 2, 's': 0, 't': 10, 'u': 5, 'v': 2, 'w': 2, 'x': 0, 'y': 2, 'z': 0}\n"
     ]
    }
   ],
   "source": [
    "import string\n",
    "dct = {i: 0 for i in string.ascii_lowercase}\n",
    "\n",
    "char = (\"You can have data without information, but you cannot have information without data.\")\n",
    "char = char.lower()\n",
    "char = list(char)\n",
    "for i in char:\n",
    "    if i in dct.keys():\n",
    "        dct[i] = dct[i] + 1\n",
    "print(dct)"
   ]
  },
  {
   "cell_type": "code",
   "execution_count": 4,
   "metadata": {},
   "outputs": [
    {
     "name": "stdout",
     "output_type": "stream",
     "text": [
      "abcdefghijklmnopqrstuvwxyz\n",
      "abcdefghijklmnopqrstuvwxyzABCDEFGHIJKLMNOPQRSTUVWXYZ\n",
      "ABCDEFGHIJKLMNOPQRSTUVWXYZ\n"
     ]
    }
   ],
   "source": [
    "print(string.ascii_lowercase)\n",
    "print(string.ascii_letters)\n",
    "print(string.ascii_uppercase)"
   ]
  },
  {
   "cell_type": "code",
   "execution_count": 3,
   "metadata": {},
   "outputs": [
    {
     "name": "stdout",
     "output_type": "stream",
     "text": [
      "{'a': 10, 'b': 1, 'c': 2, 'd': 2, 'e': 2, 'f': 2, 'h': 4, 'i': 6, 'm': 2, 'n': 7, 'o': 9, 'r': 2, 't': 10, 'u': 5, 'v': 2, 'w': 2, 'y': 2}\n",
      "[('a', 10), ('b', 1), ('c', 2), ('d', 2), ('e', 2), ('f', 2), ('h', 4), ('i', 6), ('m', 2), ('n', 7), ('o', 9), ('r', 2), ('t', 10), ('u', 5), ('v', 2), ('w', 2), ('y', 2)]\n"
     ]
    }
   ],
   "source": [
    "# create your string variable\n",
    "word = \"You can have data without information, but you cannot have information without data.\"\n",
    "word = word.lower() # change string to lowercase\n",
    "\n",
    "# declare a a list containing all the alphabets\n",
    "alphabet = ['a', 'b', 'c', 'd', 'e', 'f', 'g', 'h', 'i', 'j', 'k', 'l', 'm', 'n',\n",
    "            'o', 'p', 'q', 'r', 's', 't', 'u', 'v', 'w', 'x', 'y', 'z']\n",
    "\n",
    "# looping to form a dictionary with elements in the alphabet list above and assigning 0 to all of them initially.\n",
    "dictionary = {i : 0 for i in alphabet} \n",
    "\n",
    "for letter in word: # looping through all my word string\n",
    "    if letter in alphabet: # if any letter in my word is found inside my alphabet\n",
    "        dictionary[letter] = dictionary[letter]+1 # the value of letter should be the former value which is zero = 0 + 1\n",
    "                                                  # next time it encounters another one, former value which is 1 = 1 + 1 \n",
    "    else:\n",
    "        dictionary[letter] = 0 # else if its not in alphabet let it still be equal to zero.\n",
    "        \n",
    "new_dictionary= dictionary.copy() # creating a new dictionary out of our old dictionary\n",
    "\n",
    "for i in dictionary:    # loop throug the old dictionary and \n",
    "    if dictionary[i]==0: # say, anywhere my value is equal to zero\n",
    "        del new_dictionary[i] # delete that particular pair from my new dictionary\n",
    "        \n",
    "print(new_dictionary) # print the new dictionary now\n",
    "new_list = list(new_dictionary.items())\n",
    "print(new_list)"
   ]
  },
  {
   "cell_type": "code",
   "execution_count": null,
   "metadata": {},
   "outputs": [],
   "source": []
  }
 ],
 "metadata": {
  "kernelspec": {
   "display_name": "Python 3",
   "language": "python",
   "name": "python3"
  },
  "language_info": {
   "codemirror_mode": {
    "name": "ipython",
    "version": 3
   },
   "file_extension": ".py",
   "mimetype": "text/x-python",
   "name": "python",
   "nbconvert_exporter": "python",
   "pygments_lexer": "ipython3",
   "version": "3.7.3"
  }
 },
 "nbformat": 4,
 "nbformat_minor": 2
}
