{
 "cells": [
  {
   "cell_type": "code",
   "execution_count": 9,
   "metadata": {},
   "outputs": [
    {
     "name": "stdout",
     "output_type": "stream",
     "text": [
      "Please input your grade: 50\n",
      "I will execute either way\n"
     ]
    }
   ],
   "source": [
    "try:\n",
    "    x= (input(\"Please input your grade: \"))\n",
    "    if type(x) == int:\n",
    "        if x >=70:\n",
    "            print(\"A\")\n",
    "        elif x >=60:\n",
    "            print(\"B\")\n",
    "        elif x >=50:\n",
    "            print(\"C\")\n",
    "        elif x >=45:\n",
    "            print(\"D\")\n",
    "        elif x >=40:\n",
    "            print(\"E\")\n",
    "        else:\n",
    "            print(\"Failed\")\n",
    "except:\n",
    "        print(\"Our program only accepts integers\")\n",
    "print(\"I will execute either way\")"
   ]
  }
 ],
 "metadata": {
  "kernelspec": {
   "display_name": "Python 3",
   "language": "python",
   "name": "python3"
  },
  "language_info": {
   "codemirror_mode": {
    "name": "ipython",
    "version": 3
   },
   "file_extension": ".py",
   "mimetype": "text/x-python",
   "name": "python",
   "nbconvert_exporter": "python",
   "pygments_lexer": "ipython3",
   "version": "3.7.3"
  }
 },
 "nbformat": 4,
 "nbformat_minor": 2
}
